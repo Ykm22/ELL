{
 "cells": [
  {
   "cell_type": "code",
   "execution_count": 1,
   "metadata": {},
   "outputs": [
    {
     "name": "stdout",
     "output_type": "stream",
     "text": [
      "True\n",
      "1\n",
      "NVIDIA GeForce RTX 2060\n"
     ]
    }
   ],
   "source": [
    "import torch\n",
    "\n",
    "print(torch.cuda.is_available())\n",
    "print(torch.cuda.device_count())\n",
    "print(torch.cuda.get_device_name(0))"
   ]
  },
  {
   "cell_type": "code",
   "execution_count": 2,
   "metadata": {},
   "outputs": [
    {
     "name": "stdout",
     "output_type": "stream",
     "text": [
      "GPU is available\n",
      "CPU Time: 0.006539821624755859\n",
      "GPU Time: 0.7839179039001465\n"
     ]
    }
   ],
   "source": [
    "import torch\n",
    "import time\n",
    "\n",
    "# Check if CUDA (GPU support) is available\n",
    "if torch.cuda.is_available():\n",
    "    device = torch.device(\"cuda\")          # a CUDA device object\n",
    "    print(\"GPU is available\")\n",
    "else:\n",
    "    device = torch.device(\"cpu\")\n",
    "    print(\"GPU is not available, falling back to CPU\")\n",
    "\n",
    "# Random data for testing\n",
    "input_data = torch.rand(10000, 10000).to(device)\n",
    "\n",
    "# Timing CPU operation\n",
    "start_time_cpu = time.time()\n",
    "output_cpu = input_data.mm(input_data)  # Matrix multiplication\n",
    "end_time_cpu = time.time()\n",
    "cpu_time = end_time_cpu - start_time_cpu\n",
    "\n",
    "print(\"CPU Time:\", cpu_time)\n",
    "\n",
    "# Timing GPU operation\n",
    "start_time_gpu = time.time()\n",
    "output_gpu = input_data.mm(input_data)  # Matrix multiplication\n",
    "torch.cuda.synchronize()  # Ensure all operations are completed on GPU\n",
    "end_time_gpu = time.time()\n",
    "gpu_time = end_time_gpu - start_time_gpu\n",
    "\n",
    "print(\"GPU Time:\", gpu_time)"
   ]
  }
 ],
 "metadata": {
  "kernelspec": {
   "display_name": "Python 3",
   "language": "python",
   "name": "python3"
  },
  "language_info": {
   "codemirror_mode": {
    "name": "ipython",
    "version": 3
   },
   "file_extension": ".py",
   "mimetype": "text/x-python",
   "name": "python",
   "nbconvert_exporter": "python",
   "pygments_lexer": "ipython3",
   "version": "3.11.5"
  }
 },
 "nbformat": 4,
 "nbformat_minor": 2
}
